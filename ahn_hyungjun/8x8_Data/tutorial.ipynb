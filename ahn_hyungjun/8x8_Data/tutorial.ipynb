{
 "cells": [
  {
   "cell_type": "code",
   "execution_count": 7,
   "metadata": {},
   "outputs": [
    {
     "name": "stdout",
     "output_type": "stream",
     "text": [
      "k:\\GitHub\\HipID\\HipID\\ahn_hyungjun\\8x8_Data\n",
      "k:\\GitHub\\HipID\\HipID\\ahn_hyungjun\n",
      "k:\\GitHub\\HipID\\HipID\\ahn_hyungjun\n"
     ]
    }
   ],
   "source": [
    "from pathlib import Path\n",
    "print(Path.cwd())\n",
    "%cd .. \n",
    "# 8x8_Data의 상위폴더로 설정해 주세요. (ex: ~~\\HipID\\ahn_hyungjun)\n",
    "print(Path.cwd())"
   ]
  },
  {
   "cell_type": "code",
   "execution_count": 20,
   "metadata": {},
   "outputs": [],
   "source": [
    "%run ./8x8_Data/split_csv_to_img  # 개인 폴더 내 모든 데이터를 8x8 csv로 분해합니다."
   ]
  },
  {
   "cell_type": "code",
   "execution_count": null,
   "metadata": {},
   "outputs": [],
   "source": [
    "from ResNet18 import Trainer\n",
    "\n",
    "\n",
    "trainer = Trainer(\n",
    "    lookup_table={\n",
    "        \"0001\": 0,\n",
    "        \"0002\": 1,\n",
    "        \"0003\": 2,\n",
    "    },\n",
    "    num_classes = 3,\n",
    "    in_channels = 1,  # Grayscale\n",
    "    train_batch_size = 128,\n",
    "    train_lr = 0.001,\n",
    "    train_epochs = 10,\n",
    "    )\n",
    "\n",
    "trainer.train(\n",
    "    device = 'cuda',  # 'cuda' or 'cpu'\n",
    "    pred_target = 'name'  # 'name' or 'pos'\n",
    ")"
   ]
  },
  {
   "cell_type": "code",
   "execution_count": 1,
   "metadata": {},
   "outputs": [
    {
     "name": "stderr",
     "output_type": "stream",
     "text": [
      "k:\\img_gen\\lib\\site-packages\\tqdm\\auto.py:22: TqdmWarning: IProgress not found. Please update jupyter and ipywidgets. See https://ipywidgets.readthedocs.io/en/stable/user_install.html\n",
      "  from .autonotebook import tqdm as notebook_tqdm\n"
     ]
    },
    {
     "data": {
      "text/plain": [
       "<torch.utils.data.dataset.ConcatDataset at 0x177991f8400>"
      ]
     },
     "execution_count": 1,
     "metadata": {},
     "output_type": "execute_result"
    }
   ],
   "source": [
    "from create_dataset import make_total_dataset\n",
    "import torch\n",
    "\n",
    "ds=make_total_dataset(8, {'001': 0}, is_barlow_twins=True)\n",
    "print(ds[500])"
   ]
  },
  {
   "cell_type": "code",
   "execution_count": null,
   "metadata": {},
   "outputs": [],
   "source": []
  }
 ],
 "metadata": {
  "interpreter": {
   "hash": "f708f02ea008d651ff50bd4e66dc0c910b7d52fa034b36f8fbea9e390aa6996c"
  },
  "kernelspec": {
   "display_name": "Python 3.10.1 ('img_gen': venv)",
   "language": "python",
   "name": "python3"
  },
  "language_info": {
   "codemirror_mode": {
    "name": "ipython",
    "version": 3
   },
   "file_extension": ".py",
   "mimetype": "text/x-python",
   "name": "python",
   "nbconvert_exporter": "python",
   "pygments_lexer": "ipython3",
   "version": "3.10.1"
  },
  "orig_nbformat": 4
 },
 "nbformat": 4,
 "nbformat_minor": 2
}
